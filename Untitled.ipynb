{
 "cells": [
  {
   "cell_type": "code",
   "execution_count": 75,
   "metadata": {},
   "outputs": [],
   "source": [
    "import pandas as pd\n",
    "from datetime import datetime as dt\n",
    "import matplotlib.pyplot as plt\n",
    "%matplotlib inline\n",
    "data = pd.read_csv('air_sql.csv')"
   ]
  },
  {
   "cell_type": "code",
   "execution_count": 76,
   "metadata": {},
   "outputs": [
    {
     "data": {
      "text/html": [
       "<div>\n",
       "<style scoped>\n",
       "    .dataframe tbody tr th:only-of-type {\n",
       "        vertical-align: middle;\n",
       "    }\n",
       "\n",
       "    .dataframe tbody tr th {\n",
       "        vertical-align: top;\n",
       "    }\n",
       "\n",
       "    .dataframe thead th {\n",
       "        text-align: right;\n",
       "    }\n",
       "</style>\n",
       "<table border=\"1\" class=\"dataframe\">\n",
       "  <thead>\n",
       "    <tr style=\"text-align: right;\">\n",
       "      <th></th>\n",
       "      <th>flight_id</th>\n",
       "      <th>flight_no</th>\n",
       "      <th>actual_departure</th>\n",
       "      <th>actual_arrival</th>\n",
       "      <th>aircraft_code</th>\n",
       "      <th>departure_airport</th>\n",
       "      <th>arrival_airport</th>\n",
       "      <th>fare_conditions</th>\n",
       "      <th>range</th>\n",
       "      <th>count_seats</th>\n",
       "      <th>sum_amount</th>\n",
       "      <th>travel_time</th>\n",
       "    </tr>\n",
       "  </thead>\n",
       "  <tbody>\n",
       "    <tr>\n",
       "      <th>49</th>\n",
       "      <td>136244</td>\n",
       "      <td>PG0252</td>\n",
       "      <td>2016-12-22T10:08:00Z</td>\n",
       "      <td>2016-12-22T11:47:00Z</td>\n",
       "      <td>733</td>\n",
       "      <td>AAQ</td>\n",
       "      <td>SVO</td>\n",
       "      <td>Economy</td>\n",
       "      <td>4200</td>\n",
       "      <td>13780</td>\n",
       "      <td>169052000.0</td>\n",
       "      <td>99.0</td>\n",
       "    </tr>\n",
       "    <tr>\n",
       "      <th>194</th>\n",
       "      <td>136264</td>\n",
       "      <td>PG0252</td>\n",
       "      <td>2017-02-18T10:07:00Z</td>\n",
       "      <td>2017-02-18T11:47:00Z</td>\n",
       "      <td>733</td>\n",
       "      <td>AAQ</td>\n",
       "      <td>SVO</td>\n",
       "      <td>Economy</td>\n",
       "      <td>4200</td>\n",
       "      <td>13650</td>\n",
       "      <td>167466000.0</td>\n",
       "      <td>100.0</td>\n",
       "    </tr>\n",
       "    <tr>\n",
       "      <th>131</th>\n",
       "      <td>136202</td>\n",
       "      <td>PG0252</td>\n",
       "      <td>2017-01-05T10:07:00Z</td>\n",
       "      <td>2017-01-05T11:49:00Z</td>\n",
       "      <td>733</td>\n",
       "      <td>AAQ</td>\n",
       "      <td>SVO</td>\n",
       "      <td>Business</td>\n",
       "      <td>4200</td>\n",
       "      <td>1430</td>\n",
       "      <td>52338000.0</td>\n",
       "      <td>102.0</td>\n",
       "    </tr>\n",
       "    <tr>\n",
       "      <th>134</th>\n",
       "      <td>136249</td>\n",
       "      <td>PG0252</td>\n",
       "      <td>2017-02-14T10:08:00Z</td>\n",
       "      <td>2017-02-14T11:46:00Z</td>\n",
       "      <td>733</td>\n",
       "      <td>AAQ</td>\n",
       "      <td>SVO</td>\n",
       "      <td>Economy</td>\n",
       "      <td>4200</td>\n",
       "      <td>14430</td>\n",
       "      <td>176982000.0</td>\n",
       "      <td>98.0</td>\n",
       "    </tr>\n",
       "    <tr>\n",
       "      <th>241</th>\n",
       "      <td>136207</td>\n",
       "      <td>PG0252</td>\n",
       "      <td>2016-12-27T10:07:00Z</td>\n",
       "      <td>2016-12-27T11:48:00Z</td>\n",
       "      <td>733</td>\n",
       "      <td>AAQ</td>\n",
       "      <td>SVO</td>\n",
       "      <td>Business</td>\n",
       "      <td>4200</td>\n",
       "      <td>1170</td>\n",
       "      <td>42822000.0</td>\n",
       "      <td>101.0</td>\n",
       "    </tr>\n",
       "    <tr>\n",
       "      <th>220</th>\n",
       "      <td>136284</td>\n",
       "      <td>PG0252</td>\n",
       "      <td>2017-02-07T10:07:00Z</td>\n",
       "      <td>2017-02-07T11:48:00Z</td>\n",
       "      <td>733</td>\n",
       "      <td>AAQ</td>\n",
       "      <td>SVO</td>\n",
       "      <td>Business</td>\n",
       "      <td>4200</td>\n",
       "      <td>1300</td>\n",
       "      <td>47580000.0</td>\n",
       "      <td>101.0</td>\n",
       "    </tr>\n",
       "    <tr>\n",
       "      <th>352</th>\n",
       "      <td>136807</td>\n",
       "      <td>PG0480</td>\n",
       "      <td>2017-02-23T09:28:00Z</td>\n",
       "      <td>2017-02-23T10:18:00Z</td>\n",
       "      <td>SU9</td>\n",
       "      <td>AAQ</td>\n",
       "      <td>EGO</td>\n",
       "      <td>Economy</td>\n",
       "      <td>3000</td>\n",
       "      <td>5820</td>\n",
       "      <td>36840600.0</td>\n",
       "      <td>50.0</td>\n",
       "    </tr>\n",
       "    <tr>\n",
       "      <th>206</th>\n",
       "      <td>136120</td>\n",
       "      <td>PG0252</td>\n",
       "      <td>2017-02-24T10:07:00Z</td>\n",
       "      <td>2017-02-24T11:46:00Z</td>\n",
       "      <td>733</td>\n",
       "      <td>AAQ</td>\n",
       "      <td>SVO</td>\n",
       "      <td>Economy</td>\n",
       "      <td>4200</td>\n",
       "      <td>12740</td>\n",
       "      <td>156364000.0</td>\n",
       "      <td>99.0</td>\n",
       "    </tr>\n",
       "    <tr>\n",
       "      <th>109</th>\n",
       "      <td>136403</td>\n",
       "      <td>PG0252</td>\n",
       "      <td>2017-02-20T10:06:00Z</td>\n",
       "      <td>2017-02-20T11:46:00Z</td>\n",
       "      <td>733</td>\n",
       "      <td>AAQ</td>\n",
       "      <td>SVO</td>\n",
       "      <td>Business</td>\n",
       "      <td>4200</td>\n",
       "      <td>1560</td>\n",
       "      <td>57096000.0</td>\n",
       "      <td>100.0</td>\n",
       "    </tr>\n",
       "    <tr>\n",
       "      <th>369</th>\n",
       "      <td>136911</td>\n",
       "      <td>PG0480</td>\n",
       "      <td>2016-12-12T13:05:00Z</td>\n",
       "      <td>2016-12-12T13:55:00Z</td>\n",
       "      <td>SU9</td>\n",
       "      <td>AAQ</td>\n",
       "      <td>EGO</td>\n",
       "      <td>Economy</td>\n",
       "      <td>3000</td>\n",
       "      <td>7469</td>\n",
       "      <td>47287500.0</td>\n",
       "      <td>50.0</td>\n",
       "    </tr>\n",
       "  </tbody>\n",
       "</table>\n",
       "</div>"
      ],
      "text/plain": [
       "     flight_id flight_no      actual_departure        actual_arrival  \\\n",
       "49      136244    PG0252  2016-12-22T10:08:00Z  2016-12-22T11:47:00Z   \n",
       "194     136264    PG0252  2017-02-18T10:07:00Z  2017-02-18T11:47:00Z   \n",
       "131     136202    PG0252  2017-01-05T10:07:00Z  2017-01-05T11:49:00Z   \n",
       "134     136249    PG0252  2017-02-14T10:08:00Z  2017-02-14T11:46:00Z   \n",
       "241     136207    PG0252  2016-12-27T10:07:00Z  2016-12-27T11:48:00Z   \n",
       "220     136284    PG0252  2017-02-07T10:07:00Z  2017-02-07T11:48:00Z   \n",
       "352     136807    PG0480  2017-02-23T09:28:00Z  2017-02-23T10:18:00Z   \n",
       "206     136120    PG0252  2017-02-24T10:07:00Z  2017-02-24T11:46:00Z   \n",
       "109     136403    PG0252  2017-02-20T10:06:00Z  2017-02-20T11:46:00Z   \n",
       "369     136911    PG0480  2016-12-12T13:05:00Z  2016-12-12T13:55:00Z   \n",
       "\n",
       "    aircraft_code departure_airport arrival_airport fare_conditions  range  \\\n",
       "49            733               AAQ             SVO         Economy   4200   \n",
       "194           733               AAQ             SVO         Economy   4200   \n",
       "131           733               AAQ             SVO        Business   4200   \n",
       "134           733               AAQ             SVO         Economy   4200   \n",
       "241           733               AAQ             SVO        Business   4200   \n",
       "220           733               AAQ             SVO        Business   4200   \n",
       "352           SU9               AAQ             EGO         Economy   3000   \n",
       "206           733               AAQ             SVO         Economy   4200   \n",
       "109           733               AAQ             SVO        Business   4200   \n",
       "369           SU9               AAQ             EGO         Economy   3000   \n",
       "\n",
       "     count_seats   sum_amount  travel_time  \n",
       "49         13780  169052000.0         99.0  \n",
       "194        13650  167466000.0        100.0  \n",
       "131         1430   52338000.0        102.0  \n",
       "134        14430  176982000.0         98.0  \n",
       "241         1170   42822000.0        101.0  \n",
       "220         1300   47580000.0        101.0  \n",
       "352         5820   36840600.0         50.0  \n",
       "206        12740  156364000.0         99.0  \n",
       "109         1560   57096000.0        100.0  \n",
       "369         7469   47287500.0         50.0  "
      ]
     },
     "execution_count": 76,
     "metadata": {},
     "output_type": "execute_result"
    }
   ],
   "source": [
    "data.sample(10)"
   ]
  },
  {
   "cell_type": "code",
   "execution_count": 77,
   "metadata": {},
   "outputs": [
    {
     "name": "stdout",
     "output_type": "stream",
     "text": [
      "<class 'pandas.core.frame.DataFrame'>\n",
      "RangeIndex: 373 entries, 0 to 372\n",
      "Data columns (total 12 columns):\n",
      " #   Column             Non-Null Count  Dtype  \n",
      "---  ------             --------------  -----  \n",
      " 0   flight_id          373 non-null    int64  \n",
      " 1   flight_no          373 non-null    object \n",
      " 2   actual_departure   373 non-null    object \n",
      " 3   actual_arrival     373 non-null    object \n",
      " 4   aircraft_code      373 non-null    object \n",
      " 5   departure_airport  373 non-null    object \n",
      " 6   arrival_airport    373 non-null    object \n",
      " 7   fare_conditions    360 non-null    object \n",
      " 8   range              373 non-null    int64  \n",
      " 9   count_seats        373 non-null    int64  \n",
      " 10  sum_amount         360 non-null    float64\n",
      " 11  travel_time        373 non-null    float64\n",
      "dtypes: float64(2), int64(3), object(7)\n",
      "memory usage: 35.1+ KB\n"
     ]
    }
   ],
   "source": [
    "data.info()"
   ]
  },
  {
   "cell_type": "code",
   "execution_count": 78,
   "metadata": {},
   "outputs": [
    {
     "data": {
      "text/plain": [
       "flight_id             0\n",
       "flight_no             0\n",
       "actual_departure      0\n",
       "actual_arrival        0\n",
       "aircraft_code         0\n",
       "departure_airport     0\n",
       "arrival_airport       0\n",
       "fare_conditions      13\n",
       "range                 0\n",
       "count_seats           0\n",
       "sum_amount           13\n",
       "travel_time           0\n",
       "dtype: int64"
      ]
     },
     "execution_count": 78,
     "metadata": {},
     "output_type": "execute_result"
    }
   ],
   "source": [
    "data.isna().sum()"
   ]
  },
  {
   "cell_type": "code",
   "execution_count": 79,
   "metadata": {},
   "outputs": [],
   "source": [
    "# Первоначальный просмотр общих значений.\n",
    "def viewing(column):\n",
    "    print('') \n",
    "    print('Столбец', column)\n",
    "    display(data[column].value_counts())\n",
    "    print('Количество пропусков: {}'.format(data[column].isnull().sum()), \n",
    "          'Количество уникальных значений: {}'.format(data[column].nunique()), sep='\\n')"
   ]
  },
  {
   "cell_type": "code",
   "execution_count": null,
   "metadata": {},
   "outputs": [],
   "source": []
  },
  {
   "cell_type": "code",
   "execution_count": 80,
   "metadata": {},
   "outputs": [],
   "source": [
    "# Переведём в формат datetime\n",
    "data[\"actual_arrival\"] = pd.to_datetime(data[\"actual_arrival\"])\n",
    "data[\"actual_departure\"] = pd.to_datetime(data[\"actual_departure\"])\n",
    "\n",
    "# Время полёта\n",
    "data['flight_time'] = data['actual_arrival'] - data['actual_departure']"
   ]
  },
  {
   "cell_type": "markdown",
   "metadata": {},
   "source": [
    "#### Да, у нас уже есть данные о времени полёта в минутах. Но в данном случае это сделано просто для визуального удобства, будущей работы с данными."
   ]
  },
  {
   "cell_type": "code",
   "execution_count": null,
   "metadata": {},
   "outputs": [],
   "source": []
  },
  {
   "cell_type": "code",
   "execution_count": 81,
   "metadata": {},
   "outputs": [
    {
     "name": "stdout",
     "output_type": "stream",
     "text": [
      "\n",
      "Столбец flight_no\n"
     ]
    },
    {
     "data": {
      "text/plain": [
       "PG0480    180\n",
       "PG0252    180\n",
       "PG0194     13\n",
       "Name: flight_no, dtype: int64"
      ]
     },
     "metadata": {},
     "output_type": "display_data"
    },
    {
     "name": "stdout",
     "output_type": "stream",
     "text": [
      "Количество пропусков: 0\n",
      "Количество уникальных значений: 3\n"
     ]
    }
   ],
   "source": [
    "viewing('flight_no')"
   ]
  },
  {
   "cell_type": "code",
   "execution_count": 82,
   "metadata": {},
   "outputs": [
    {
     "name": "stdout",
     "output_type": "stream",
     "text": [
      "\n",
      "Столбец arrival_airport\n"
     ]
    },
    {
     "data": {
      "text/plain": [
       "EGO    180\n",
       "SVO    180\n",
       "NOZ     13\n",
       "Name: arrival_airport, dtype: int64"
      ]
     },
     "metadata": {},
     "output_type": "display_data"
    },
    {
     "name": "stdout",
     "output_type": "stream",
     "text": [
      "Количество пропусков: 0\n",
      "Количество уникальных значений: 3\n"
     ]
    }
   ],
   "source": [
    "viewing('arrival_airport')"
   ]
  },
  {
   "cell_type": "markdown",
   "metadata": {},
   "source": [
    "#### Как видим по flight_no, PG0194 - это Новокузнецк, по которому нет данных. А то что их нет, мы уже знали ранее, когда ознакамливались с данными перед формированием итогого датасета.\n",
    "#### Посмотрим на него чуть лучше:"
   ]
  },
  {
   "cell_type": "code",
   "execution_count": 83,
   "metadata": {},
   "outputs": [
    {
     "data": {
      "text/html": [
       "<div>\n",
       "<style scoped>\n",
       "    .dataframe tbody tr th:only-of-type {\n",
       "        vertical-align: middle;\n",
       "    }\n",
       "\n",
       "    .dataframe tbody tr th {\n",
       "        vertical-align: top;\n",
       "    }\n",
       "\n",
       "    .dataframe thead th {\n",
       "        text-align: right;\n",
       "    }\n",
       "</style>\n",
       "<table border=\"1\" class=\"dataframe\">\n",
       "  <thead>\n",
       "    <tr style=\"text-align: right;\">\n",
       "      <th></th>\n",
       "      <th>flight_id</th>\n",
       "      <th>flight_no</th>\n",
       "      <th>actual_departure</th>\n",
       "      <th>actual_arrival</th>\n",
       "      <th>aircraft_code</th>\n",
       "      <th>departure_airport</th>\n",
       "      <th>arrival_airport</th>\n",
       "      <th>fare_conditions</th>\n",
       "      <th>range</th>\n",
       "      <th>count_seats</th>\n",
       "      <th>sum_amount</th>\n",
       "      <th>travel_time</th>\n",
       "      <th>flight_time</th>\n",
       "    </tr>\n",
       "  </thead>\n",
       "  <tbody>\n",
       "    <tr>\n",
       "      <th>39</th>\n",
       "      <td>136513</td>\n",
       "      <td>PG0194</td>\n",
       "      <td>2017-02-28 06:13:00+00:00</td>\n",
       "      <td>2017-02-28 11:23:00+00:00</td>\n",
       "      <td>733</td>\n",
       "      <td>AAQ</td>\n",
       "      <td>NOZ</td>\n",
       "      <td>NaN</td>\n",
       "      <td>4200</td>\n",
       "      <td>130</td>\n",
       "      <td>NaN</td>\n",
       "      <td>310.0</td>\n",
       "      <td>05:10:00</td>\n",
       "    </tr>\n",
       "    <tr>\n",
       "      <th>53</th>\n",
       "      <td>136533</td>\n",
       "      <td>PG0194</td>\n",
       "      <td>2016-12-13 06:13:00+00:00</td>\n",
       "      <td>2016-12-13 11:16:00+00:00</td>\n",
       "      <td>733</td>\n",
       "      <td>AAQ</td>\n",
       "      <td>NOZ</td>\n",
       "      <td>NaN</td>\n",
       "      <td>4200</td>\n",
       "      <td>130</td>\n",
       "      <td>NaN</td>\n",
       "      <td>303.0</td>\n",
       "      <td>05:03:00</td>\n",
       "    </tr>\n",
       "    <tr>\n",
       "      <th>72</th>\n",
       "      <td>136560</td>\n",
       "      <td>PG0194</td>\n",
       "      <td>2017-01-24 06:13:00+00:00</td>\n",
       "      <td>2017-01-24 11:18:00+00:00</td>\n",
       "      <td>733</td>\n",
       "      <td>AAQ</td>\n",
       "      <td>NOZ</td>\n",
       "      <td>NaN</td>\n",
       "      <td>4200</td>\n",
       "      <td>130</td>\n",
       "      <td>NaN</td>\n",
       "      <td>305.0</td>\n",
       "      <td>05:05:00</td>\n",
       "    </tr>\n",
       "    <tr>\n",
       "      <th>97</th>\n",
       "      <td>136564</td>\n",
       "      <td>PG0194</td>\n",
       "      <td>2016-12-27 06:16:00+00:00</td>\n",
       "      <td>2016-12-27 11:21:00+00:00</td>\n",
       "      <td>733</td>\n",
       "      <td>AAQ</td>\n",
       "      <td>NOZ</td>\n",
       "      <td>NaN</td>\n",
       "      <td>4200</td>\n",
       "      <td>130</td>\n",
       "      <td>NaN</td>\n",
       "      <td>305.0</td>\n",
       "      <td>05:05:00</td>\n",
       "    </tr>\n",
       "    <tr>\n",
       "      <th>239</th>\n",
       "      <td>136544</td>\n",
       "      <td>PG0194</td>\n",
       "      <td>2017-01-31 06:10:00+00:00</td>\n",
       "      <td>2017-01-31 11:14:00+00:00</td>\n",
       "      <td>733</td>\n",
       "      <td>AAQ</td>\n",
       "      <td>NOZ</td>\n",
       "      <td>NaN</td>\n",
       "      <td>4200</td>\n",
       "      <td>130</td>\n",
       "      <td>NaN</td>\n",
       "      <td>304.0</td>\n",
       "      <td>05:04:00</td>\n",
       "    </tr>\n",
       "    <tr>\n",
       "      <th>273</th>\n",
       "      <td>136523</td>\n",
       "      <td>PG0194</td>\n",
       "      <td>2017-01-10 06:14:00+00:00</td>\n",
       "      <td>2017-01-10 11:26:00+00:00</td>\n",
       "      <td>733</td>\n",
       "      <td>AAQ</td>\n",
       "      <td>NOZ</td>\n",
       "      <td>NaN</td>\n",
       "      <td>4200</td>\n",
       "      <td>130</td>\n",
       "      <td>NaN</td>\n",
       "      <td>312.0</td>\n",
       "      <td>05:12:00</td>\n",
       "    </tr>\n",
       "    <tr>\n",
       "      <th>292</th>\n",
       "      <td>136534</td>\n",
       "      <td>PG0194</td>\n",
       "      <td>2016-12-06 06:13:00+00:00</td>\n",
       "      <td>2016-12-06 11:17:00+00:00</td>\n",
       "      <td>733</td>\n",
       "      <td>AAQ</td>\n",
       "      <td>NOZ</td>\n",
       "      <td>NaN</td>\n",
       "      <td>4200</td>\n",
       "      <td>130</td>\n",
       "      <td>NaN</td>\n",
       "      <td>304.0</td>\n",
       "      <td>05:04:00</td>\n",
       "    </tr>\n",
       "    <tr>\n",
       "      <th>298</th>\n",
       "      <td>136518</td>\n",
       "      <td>PG0194</td>\n",
       "      <td>2016-12-20 06:13:00+00:00</td>\n",
       "      <td>2016-12-20 11:17:00+00:00</td>\n",
       "      <td>733</td>\n",
       "      <td>AAQ</td>\n",
       "      <td>NOZ</td>\n",
       "      <td>NaN</td>\n",
       "      <td>4200</td>\n",
       "      <td>130</td>\n",
       "      <td>NaN</td>\n",
       "      <td>304.0</td>\n",
       "      <td>05:04:00</td>\n",
       "    </tr>\n",
       "    <tr>\n",
       "      <th>299</th>\n",
       "      <td>136511</td>\n",
       "      <td>PG0194</td>\n",
       "      <td>2017-02-21 06:15:00+00:00</td>\n",
       "      <td>2017-02-21 11:25:00+00:00</td>\n",
       "      <td>733</td>\n",
       "      <td>AAQ</td>\n",
       "      <td>NOZ</td>\n",
       "      <td>NaN</td>\n",
       "      <td>4200</td>\n",
       "      <td>130</td>\n",
       "      <td>NaN</td>\n",
       "      <td>310.0</td>\n",
       "      <td>05:10:00</td>\n",
       "    </tr>\n",
       "    <tr>\n",
       "      <th>305</th>\n",
       "      <td>136540</td>\n",
       "      <td>PG0194</td>\n",
       "      <td>2017-01-17 06:14:00+00:00</td>\n",
       "      <td>2017-01-17 11:21:00+00:00</td>\n",
       "      <td>733</td>\n",
       "      <td>AAQ</td>\n",
       "      <td>NOZ</td>\n",
       "      <td>NaN</td>\n",
       "      <td>4200</td>\n",
       "      <td>130</td>\n",
       "      <td>NaN</td>\n",
       "      <td>307.0</td>\n",
       "      <td>05:07:00</td>\n",
       "    </tr>\n",
       "    <tr>\n",
       "      <th>333</th>\n",
       "      <td>136514</td>\n",
       "      <td>PG0194</td>\n",
       "      <td>2017-02-07 06:14:00+00:00</td>\n",
       "      <td>2017-02-07 11:13:00+00:00</td>\n",
       "      <td>733</td>\n",
       "      <td>AAQ</td>\n",
       "      <td>NOZ</td>\n",
       "      <td>NaN</td>\n",
       "      <td>4200</td>\n",
       "      <td>130</td>\n",
       "      <td>NaN</td>\n",
       "      <td>299.0</td>\n",
       "      <td>04:59:00</td>\n",
       "    </tr>\n",
       "    <tr>\n",
       "      <th>339</th>\n",
       "      <td>136567</td>\n",
       "      <td>PG0194</td>\n",
       "      <td>2017-02-14 06:12:00+00:00</td>\n",
       "      <td>2017-02-14 11:23:00+00:00</td>\n",
       "      <td>733</td>\n",
       "      <td>AAQ</td>\n",
       "      <td>NOZ</td>\n",
       "      <td>NaN</td>\n",
       "      <td>4200</td>\n",
       "      <td>130</td>\n",
       "      <td>NaN</td>\n",
       "      <td>311.0</td>\n",
       "      <td>05:11:00</td>\n",
       "    </tr>\n",
       "    <tr>\n",
       "      <th>368</th>\n",
       "      <td>136546</td>\n",
       "      <td>PG0194</td>\n",
       "      <td>2017-01-03 06:13:00+00:00</td>\n",
       "      <td>2017-01-03 11:15:00+00:00</td>\n",
       "      <td>733</td>\n",
       "      <td>AAQ</td>\n",
       "      <td>NOZ</td>\n",
       "      <td>NaN</td>\n",
       "      <td>4200</td>\n",
       "      <td>130</td>\n",
       "      <td>NaN</td>\n",
       "      <td>302.0</td>\n",
       "      <td>05:02:00</td>\n",
       "    </tr>\n",
       "  </tbody>\n",
       "</table>\n",
       "</div>"
      ],
      "text/plain": [
       "     flight_id flight_no          actual_departure            actual_arrival  \\\n",
       "39      136513    PG0194 2017-02-28 06:13:00+00:00 2017-02-28 11:23:00+00:00   \n",
       "53      136533    PG0194 2016-12-13 06:13:00+00:00 2016-12-13 11:16:00+00:00   \n",
       "72      136560    PG0194 2017-01-24 06:13:00+00:00 2017-01-24 11:18:00+00:00   \n",
       "97      136564    PG0194 2016-12-27 06:16:00+00:00 2016-12-27 11:21:00+00:00   \n",
       "239     136544    PG0194 2017-01-31 06:10:00+00:00 2017-01-31 11:14:00+00:00   \n",
       "273     136523    PG0194 2017-01-10 06:14:00+00:00 2017-01-10 11:26:00+00:00   \n",
       "292     136534    PG0194 2016-12-06 06:13:00+00:00 2016-12-06 11:17:00+00:00   \n",
       "298     136518    PG0194 2016-12-20 06:13:00+00:00 2016-12-20 11:17:00+00:00   \n",
       "299     136511    PG0194 2017-02-21 06:15:00+00:00 2017-02-21 11:25:00+00:00   \n",
       "305     136540    PG0194 2017-01-17 06:14:00+00:00 2017-01-17 11:21:00+00:00   \n",
       "333     136514    PG0194 2017-02-07 06:14:00+00:00 2017-02-07 11:13:00+00:00   \n",
       "339     136567    PG0194 2017-02-14 06:12:00+00:00 2017-02-14 11:23:00+00:00   \n",
       "368     136546    PG0194 2017-01-03 06:13:00+00:00 2017-01-03 11:15:00+00:00   \n",
       "\n",
       "    aircraft_code departure_airport arrival_airport fare_conditions  range  \\\n",
       "39            733               AAQ             NOZ             NaN   4200   \n",
       "53            733               AAQ             NOZ             NaN   4200   \n",
       "72            733               AAQ             NOZ             NaN   4200   \n",
       "97            733               AAQ             NOZ             NaN   4200   \n",
       "239           733               AAQ             NOZ             NaN   4200   \n",
       "273           733               AAQ             NOZ             NaN   4200   \n",
       "292           733               AAQ             NOZ             NaN   4200   \n",
       "298           733               AAQ             NOZ             NaN   4200   \n",
       "299           733               AAQ             NOZ             NaN   4200   \n",
       "305           733               AAQ             NOZ             NaN   4200   \n",
       "333           733               AAQ             NOZ             NaN   4200   \n",
       "339           733               AAQ             NOZ             NaN   4200   \n",
       "368           733               AAQ             NOZ             NaN   4200   \n",
       "\n",
       "     count_seats  sum_amount  travel_time flight_time  \n",
       "39           130         NaN        310.0    05:10:00  \n",
       "53           130         NaN        303.0    05:03:00  \n",
       "72           130         NaN        305.0    05:05:00  \n",
       "97           130         NaN        305.0    05:05:00  \n",
       "239          130         NaN        304.0    05:04:00  \n",
       "273          130         NaN        312.0    05:12:00  \n",
       "292          130         NaN        304.0    05:04:00  \n",
       "298          130         NaN        304.0    05:04:00  \n",
       "299          130         NaN        310.0    05:10:00  \n",
       "305          130         NaN        307.0    05:07:00  \n",
       "333          130         NaN        299.0    04:59:00  \n",
       "339          130         NaN        311.0    05:11:00  \n",
       "368          130         NaN        302.0    05:02:00  "
      ]
     },
     "execution_count": 83,
     "metadata": {},
     "output_type": "execute_result"
    }
   ],
   "source": [
    "data.loc[data['arrival_airport']=='NOZ'].head(13)"
   ]
  },
  {
   "cell_type": "markdown",
   "metadata": {},
   "source": [
    "#### Помимо пропусков в двух колонках, ещё имеем неправильные значения в count_seats. Видимо кто-то не любит Новокузнецк..."
   ]
  },
  {
   "cell_type": "code",
   "execution_count": 84,
   "metadata": {},
   "outputs": [
    {
     "name": "stdout",
     "output_type": "stream",
     "text": [
      "\n",
      "Столбец aircraft_code\n"
     ]
    },
    {
     "data": {
      "text/plain": [
       "733    193\n",
       "SU9    180\n",
       "Name: aircraft_code, dtype: int64"
      ]
     },
     "metadata": {},
     "output_type": "display_data"
    },
    {
     "name": "stdout",
     "output_type": "stream",
     "text": [
      "Количество пропусков: 0\n",
      "Количество уникальных значений: 2\n"
     ]
    }
   ],
   "source": [
    "viewing('aircraft_code')"
   ]
  },
  {
   "cell_type": "markdown",
   "metadata": {},
   "source": [
    "#### Летают только 2 самолёта"
   ]
  },
  {
   "cell_type": "code",
   "execution_count": 85,
   "metadata": {},
   "outputs": [],
   "source": [
    "# Заполним 0\n",
    "data['fare_conditions'].fillna(0, inplace=True)"
   ]
  },
  {
   "cell_type": "code",
   "execution_count": 86,
   "metadata": {},
   "outputs": [
    {
     "name": "stdout",
     "output_type": "stream",
     "text": [
      "\n",
      "Столбец fare_conditions\n"
     ]
    },
    {
     "data": {
      "text/plain": [
       "Business    180\n",
       "Economy     180\n",
       "0            13\n",
       "Name: fare_conditions, dtype: int64"
      ]
     },
     "metadata": {},
     "output_type": "display_data"
    },
    {
     "name": "stdout",
     "output_type": "stream",
     "text": [
      "Количество пропусков: 0\n",
      "Количество уникальных значений: 3\n"
     ]
    }
   ],
   "source": [
    "viewing('fare_conditions')"
   ]
  },
  {
   "cell_type": "code",
   "execution_count": 87,
   "metadata": {},
   "outputs": [
    {
     "name": "stdout",
     "output_type": "stream",
     "text": [
      "\n",
      "Столбец range\n"
     ]
    },
    {
     "data": {
      "text/plain": [
       "4200    193\n",
       "3000    180\n",
       "Name: range, dtype: int64"
      ]
     },
     "metadata": {},
     "output_type": "display_data"
    },
    {
     "name": "stdout",
     "output_type": "stream",
     "text": [
      "Количество пропусков: 0\n",
      "Количество уникальных значений: 2\n"
     ]
    }
   ],
   "source": [
    "viewing('range')\n",
    "# Наблюдаем полную корреляцию с aircraft_code. Делая выводы, что боинг пролетает максимум 4200 км,\n",
    "# а суперджет 3000 км."
   ]
  },
  {
   "cell_type": "code",
   "execution_count": 88,
   "metadata": {},
   "outputs": [
    {
     "data": {
      "text/plain": [
       "<matplotlib.axes._subplots.AxesSubplot at 0x1bb6b9d08e0>"
      ]
     },
     "execution_count": 88,
     "metadata": {},
     "output_type": "execute_result"
    },
    {
     "data": {
      "image/png": "[encoded data removed]",
      "text/plain": [
       "<Figure size 432x288 with 1 Axes>"
      ]
     },
     "metadata": {
      "needs_background": "light"
     },
     "output_type": "display_data"
    }
   ],
   "source": [
    "# Посмотрим кол-во мест в классах самолётов.\n",
    "data.groupby(by = ['aircraft_code', 'fare_conditions'])['count_seats'].sum().plot(kind = 'bar', grid= True, color = 'orange')"
   ]
  },
  {
   "cell_type": "code",
   "execution_count": 89,
   "metadata": {},
   "outputs": [
    {
     "data": {
      "text/plain": [
       "<matplotlib.axes._subplots.AxesSubplot at 0x1bb6ba30d90>"
      ]
     },
     "execution_count": 89,
     "metadata": {},
     "output_type": "execute_result"
    },
    {
     "data": {
      "image/png": "[encoded data removed]",
      "text/plain": [
       "<Figure size 432x288 with 1 Axes>"
      ]
     },
     "metadata": {
      "needs_background": "light"
     },
     "output_type": "display_data"
    }
   ],
   "source": [
    "# И кол-во мест на рейсах.\n",
    "data.groupby(by = ['aircraft_code', 'flight_no'])['count_seats'].sum().plot(kind = 'bar', grid= True, color = 'orange')"
   ]
  },
  {
   "cell_type": "code",
   "execution_count": 90,
   "metadata": {},
   "outputs": [],
   "source": [
    "# Так же заполним 0, т.к. это из-за Новокузнецка.\n",
    "data['sum_amount'].fillna(0, inplace=True)"
   ]
  },
  {
   "cell_type": "code",
   "execution_count": 91,
   "metadata": {},
   "outputs": [
    {
     "data": {
      "text/plain": [
       "<matplotlib.axes._subplots.AxesSubplot at 0x1bb6ba8cbb0>"
      ]
     },
     "execution_count": 91,
     "metadata": {},
     "output_type": "execute_result"
    },
    {
     "data": {
      "image/png": "[encoded data removed]",
      "text/plain": [
       "<Figure size 432x288 with 1 Axes>"
      ]
     },
     "metadata": {
      "needs_background": "light"
     },
     "output_type": "display_data"
    }
   ],
   "source": [
    "data.groupby(by = ['aircraft_code', 'fare_conditions'])['sum_amount'].sum().plot(kind = 'bar', grid= True, color = 'g')"
   ]
  },
  {
   "cell_type": "markdown",
   "metadata": {},
   "source": [
    "#### Визуально можно наблюдать, что соотношение классов выручки по билетам приблизительно у боинга 1/3, а суперджет 1/2."
   ]
  },
  {
   "cell_type": "code",
   "execution_count": 92,
   "metadata": {},
   "outputs": [
    {
     "data": {
      "text/plain": [
       "<matplotlib.axes._subplots.AxesSubplot at 0x1bb6baf7310>"
      ]
     },
     "execution_count": 92,
     "metadata": {},
     "output_type": "execute_result"
    },
    {
     "data": {
      "image/png": "[encoded data removed]",
      "text/plain": [
       "<Figure size 432x288 with 1 Axes>"
      ]
     },
     "metadata": {
      "needs_background": "light"
     },
     "output_type": "display_data"
    }
   ],
   "source": [
    "data.groupby(by = ['aircraft_code', 'arrival_airport'])['flight_no'].value_counts().plot(kind = 'bar', grid= True)"
   ]
  },
  {
   "cell_type": "markdown",
   "metadata": {},
   "source": [
    "#### Кол-во рейсов. Видимо зимой Новокузнецк аутсайдер или же банальная нехватка данных."
   ]
  },
  {
   "cell_type": "code",
   "execution_count": 93,
   "metadata": {},
   "outputs": [
    {
     "data": {
      "text/plain": [
       "<matplotlib.axes._subplots.AxesSubplot at 0x1bb6bb50700>"
      ]
     },
     "execution_count": 93,
     "metadata": {},
     "output_type": "execute_result"
    },
    {
     "data": {
      "image/png": "[encoded data removed]",
      "text/plain": [
       "<Figure size 432x288 with 1 Axes>"
      ]
     },
     "metadata": {
      "needs_background": "light"
     },
     "output_type": "display_data"
    }
   ],
   "source": [
    "data.groupby(by = ['range', 'aircraft_code'])['travel_time'].mean().plot(kind = 'bar', grid= True, color = 'dodgerblue')"
   ]
  },
  {
   "cell_type": "markdown",
   "metadata": {},
   "source": [
    "#### Среднее время полёта рейсов соответствует возможностям дальности полёта самолётов. Никаких аномалий нет. Чем больше максимальная дальность полёта, тем дольше в среднем он проводит время в воздухе. Самолёты используются рационально."
   ]
  },
  {
   "cell_type": "markdown",
   "metadata": {},
   "source": [
    "#### Далее решаем задачу с рейсами"
   ]
  },
  {
   "cell_type": "code",
   "execution_count": 94,
   "metadata": {},
   "outputs": [],
   "source": [
    "# Добавим новую колонку с расходом топлива самолётов\n",
    "fuel = {'733': 2600, 'SU9': 1700} # л. в час\n",
    "data['fuel_hour'] = data['aircraft_code'].map(fuel)"
   ]
  },
  {
   "cell_type": "code",
   "execution_count": 95,
   "metadata": {},
   "outputs": [],
   "source": [
    "# Расстояние до пункта назначения. Новая колонка. Может когда-нибудь пригодится, лишней информацией точно не будет)))\n",
    "distance = {'EGO': 640, 'SVO': 1200, 'NOZ': 3660}\n",
    "data['distance'] = data['arrival_airport'].map(distance)"
   ]
  },
  {
   "cell_type": "code",
   "execution_count": 96,
   "metadata": {},
   "outputs": [
    {
     "data": {
      "text/plain": [
       "0      1.683333\n",
       "1      0.833333\n",
       "2      0.833333\n",
       "3      0.833333\n",
       "4      1.666667\n",
       "         ...   \n",
       "368    5.033333\n",
       "369    0.833333\n",
       "370    1.650000\n",
       "371    0.833333\n",
       "372    1.650000\n",
       "Name: travel_time, Length: 373, dtype: float64"
      ]
     },
     "execution_count": 96,
     "metadata": {},
     "output_type": "execute_result"
    }
   ],
   "source": [
    "# переводим время в часы, для удобства вычислений в дальнейшем.\n",
    "data['travel_time']=data['travel_time']/60\n",
    "data['travel_time']"
   ]
  },
  {
   "cell_type": "code",
   "execution_count": 97,
   "metadata": {},
   "outputs": [],
   "source": [
    "# Средняя стоимость топлива, руб/т\n",
    "fuel_mean = 42700\n",
    "data['prise_fuel'] = fuel_mean/1000 # стоимость за л."
   ]
  },
  {
   "cell_type": "code",
   "execution_count": 98,
   "metadata": {},
   "outputs": [],
   "source": [
    "# Расходы на топливо за полет\n",
    "data['fuel_consumption']=data['travel_time']*(data['prise_fuel']*data['fuel_hour'])"
   ]
  },
  {
   "cell_type": "code",
   "execution_count": 99,
   "metadata": {},
   "outputs": [],
   "source": [
    "# Считаем прибыльность рейсов\n",
    "data['profit'] = data['sum_amount'] - data['fuel_consumption']"
   ]
  },
  {
   "cell_type": "code",
   "execution_count": 100,
   "metadata": {},
   "outputs": [
    {
     "data": {
      "text/html": [
       "<div>\n",
       "<style scoped>\n",
       "    .dataframe tbody tr th:only-of-type {\n",
       "        vertical-align: middle;\n",
       "    }\n",
       "\n",
       "    .dataframe tbody tr th {\n",
       "        vertical-align: top;\n",
       "    }\n",
       "\n",
       "    .dataframe thead th {\n",
       "        text-align: right;\n",
       "    }\n",
       "</style>\n",
       "<table border=\"1\" class=\"dataframe\">\n",
       "  <thead>\n",
       "    <tr style=\"text-align: right;\">\n",
       "      <th></th>\n",
       "      <th>profit</th>\n",
       "    </tr>\n",
       "    <tr>\n",
       "      <th>arrival_airport</th>\n",
       "      <th></th>\n",
       "    </tr>\n",
       "  </thead>\n",
       "  <tbody>\n",
       "    <tr>\n",
       "      <th>EGO</th>\n",
       "      <td>3.449073e+07</td>\n",
       "    </tr>\n",
       "    <tr>\n",
       "      <th>NOZ</th>\n",
       "      <td>-5.659173e+05</td>\n",
       "    </tr>\n",
       "    <tr>\n",
       "      <th>SVO</th>\n",
       "      <td>1.068634e+08</td>\n",
       "    </tr>\n",
       "  </tbody>\n",
       "</table>\n",
       "</div>"
      ],
      "text/plain": [
       "                       profit\n",
       "arrival_airport              \n",
       "EGO              3.449073e+07\n",
       "NOZ             -5.659173e+05\n",
       "SVO              1.068634e+08"
      ]
     },
     "execution_count": 100,
     "metadata": {},
     "output_type": "execute_result"
    }
   ],
   "source": [
    "# Общая средняя прибыльность зимних рейсов.\n",
    "mean_profit = pd.DataFrame(data.groupby(['arrival_airport']).profit.mean())\n",
    "mean_profit"
   ]
  },
  {
   "cell_type": "markdown",
   "metadata": {},
   "source": [
    "## ВЫВОДЫ (помимо уже сделанных):\n",
    "### Для оценки рентабильности рейсов была использована модель - \"стоимость билетов - стоимость топлива на рейс\"\n",
    "##### На первый взгляд рейсы в Белгород и Москву прибыльны. Новокузнецк исключение, т.к. данные ошибочны или же их вообще нет.\n",
    "##### Поэтому появляется необходимость парсить данные о Новокузнецке, чтобы сделать объективную оценку.\n",
    "##### Так же стоит учесть, что далеко не все данные о затратах были учтены. Для более полного анализа данных о прибыльности рейсов требуется добавить:\n",
    "##### / расходы на персонал воздушного судна и аэропорта\n",
    "##### / расходы на тех.обслуживание самолёта и его ремонт.\n",
    "##### / расходы административные, капитальные, некапитальные прочие расходы и само собой разумеется прочие сборы и доходы.\n",
    "### В общем убыточных рейсов в зимнее время не наблюдается.\n",
    "### Хорошо было бы диверсифицировать рейсы и добавить ещё несколько, а то их всего 3... мне кажется этого мало."
   ]
  },
  {
   "cell_type": "markdown",
   "metadata": {},
   "source": [
    "===================================================================================================================="
   ]
  },
  {
   "cell_type": "markdown",
   "metadata": {},
   "source": [
    "===================================================================================================================="
   ]
  },
  {
   "cell_type": "markdown",
   "metadata": {},
   "source": [
    "#### Давайте внимательнее посмотрим про Новокузнецк в общем... для это я сделал отдельный датасет с прилётами в Новокузнецк."
   ]
  },
  {
   "cell_type": "code",
   "execution_count": 101,
   "metadata": {},
   "outputs": [
    {
     "data": {
      "text/html": [
       "<div>\n",
       "<style scoped>\n",
       "    .dataframe tbody tr th:only-of-type {\n",
       "        vertical-align: middle;\n",
       "    }\n",
       "\n",
       "    .dataframe tbody tr th {\n",
       "        vertical-align: top;\n",
       "    }\n",
       "\n",
       "    .dataframe thead th {\n",
       "        text-align: right;\n",
       "    }\n",
       "</style>\n",
       "<table border=\"1\" class=\"dataframe\">\n",
       "  <thead>\n",
       "    <tr style=\"text-align: right;\">\n",
       "      <th></th>\n",
       "      <th>flight_id</th>\n",
       "      <th>flight_no</th>\n",
       "      <th>actual_departure</th>\n",
       "      <th>actual_arrival</th>\n",
       "      <th>aircraft_code</th>\n",
       "      <th>departure_airport</th>\n",
       "      <th>arrival_airport</th>\n",
       "      <th>fare_conditions</th>\n",
       "      <th>range</th>\n",
       "      <th>count_seats</th>\n",
       "      <th>sum_amount</th>\n",
       "      <th>travel_time</th>\n",
       "    </tr>\n",
       "  </thead>\n",
       "  <tbody>\n",
       "    <tr>\n",
       "      <th>0</th>\n",
       "      <td>68509</td>\n",
       "      <td>PG0295</td>\n",
       "      <td>2016-12-06T13:26:00Z</td>\n",
       "      <td>2016-12-06T13:51:00Z</td>\n",
       "      <td>SU9</td>\n",
       "      <td>OVB</td>\n",
       "      <td>NOZ</td>\n",
       "      <td>NaN</td>\n",
       "      <td>3000</td>\n",
       "      <td>97</td>\n",
       "      <td>NaN</td>\n",
       "      <td>25.0</td>\n",
       "    </tr>\n",
       "    <tr>\n",
       "      <th>1</th>\n",
       "      <td>68510</td>\n",
       "      <td>PG0295</td>\n",
       "      <td>NaN</td>\n",
       "      <td>NaN</td>\n",
       "      <td>SU9</td>\n",
       "      <td>OVB</td>\n",
       "      <td>NOZ</td>\n",
       "      <td>NaN</td>\n",
       "      <td>3000</td>\n",
       "      <td>97</td>\n",
       "      <td>NaN</td>\n",
       "      <td>NaN</td>\n",
       "    </tr>\n",
       "    <tr>\n",
       "      <th>2</th>\n",
       "      <td>68511</td>\n",
       "      <td>PG0296</td>\n",
       "      <td>2016-12-13T10:21:00Z</td>\n",
       "      <td>2016-12-13T10:46:00Z</td>\n",
       "      <td>SU9</td>\n",
       "      <td>OVB</td>\n",
       "      <td>NOZ</td>\n",
       "      <td>Business</td>\n",
       "      <td>3000</td>\n",
       "      <td>1164</td>\n",
       "      <td>10592400.0</td>\n",
       "      <td>25.0</td>\n",
       "    </tr>\n",
       "    <tr>\n",
       "      <th>3</th>\n",
       "      <td>68511</td>\n",
       "      <td>PG0296</td>\n",
       "      <td>2016-12-13T10:21:00Z</td>\n",
       "      <td>2016-12-13T10:46:00Z</td>\n",
       "      <td>SU9</td>\n",
       "      <td>OVB</td>\n",
       "      <td>NOZ</td>\n",
       "      <td>Economy</td>\n",
       "      <td>3000</td>\n",
       "      <td>7954</td>\n",
       "      <td>24007500.0</td>\n",
       "      <td>25.0</td>\n",
       "    </tr>\n",
       "    <tr>\n",
       "      <th>4</th>\n",
       "      <td>68512</td>\n",
       "      <td>PG0295</td>\n",
       "      <td>2016-11-06T13:22:00Z</td>\n",
       "      <td>2016-11-06T13:47:00Z</td>\n",
       "      <td>SU9</td>\n",
       "      <td>OVB</td>\n",
       "      <td>NOZ</td>\n",
       "      <td>NaN</td>\n",
       "      <td>3000</td>\n",
       "      <td>97</td>\n",
       "      <td>NaN</td>\n",
       "      <td>25.0</td>\n",
       "    </tr>\n",
       "    <tr>\n",
       "      <th>...</th>\n",
       "      <td>...</td>\n",
       "      <td>...</td>\n",
       "      <td>...</td>\n",
       "      <td>...</td>\n",
       "      <td>...</td>\n",
       "      <td>...</td>\n",
       "      <td>...</td>\n",
       "      <td>...</td>\n",
       "      <td>...</td>\n",
       "      <td>...</td>\n",
       "      <td>...</td>\n",
       "      <td>...</td>\n",
       "    </tr>\n",
       "    <tr>\n",
       "      <th>2932</th>\n",
       "      <td>213281</td>\n",
       "      <td>PG0616</td>\n",
       "      <td>2017-06-11T06:20:00Z</td>\n",
       "      <td>2017-06-11T10:21:00Z</td>\n",
       "      <td>SU9</td>\n",
       "      <td>CEE</td>\n",
       "      <td>NOZ</td>\n",
       "      <td>Business</td>\n",
       "      <td>3000</td>\n",
       "      <td>97</td>\n",
       "      <td>8691200.0</td>\n",
       "      <td>241.0</td>\n",
       "    </tr>\n",
       "    <tr>\n",
       "      <th>2933</th>\n",
       "      <td>213281</td>\n",
       "      <td>PG0616</td>\n",
       "      <td>2017-06-11T06:20:00Z</td>\n",
       "      <td>2017-06-11T10:21:00Z</td>\n",
       "      <td>SU9</td>\n",
       "      <td>CEE</td>\n",
       "      <td>NOZ</td>\n",
       "      <td>Economy</td>\n",
       "      <td>3000</td>\n",
       "      <td>1649</td>\n",
       "      <td>49305100.0</td>\n",
       "      <td>241.0</td>\n",
       "    </tr>\n",
       "    <tr>\n",
       "      <th>2934</th>\n",
       "      <td>213282</td>\n",
       "      <td>PG0616</td>\n",
       "      <td>2016-11-20T06:22:00Z</td>\n",
       "      <td>2016-11-20T10:19:00Z</td>\n",
       "      <td>SU9</td>\n",
       "      <td>CEE</td>\n",
       "      <td>NOZ</td>\n",
       "      <td>Business</td>\n",
       "      <td>3000</td>\n",
       "      <td>291</td>\n",
       "      <td>26073600.0</td>\n",
       "      <td>237.0</td>\n",
       "    </tr>\n",
       "    <tr>\n",
       "      <th>2935</th>\n",
       "      <td>213282</td>\n",
       "      <td>PG0616</td>\n",
       "      <td>2016-11-20T06:22:00Z</td>\n",
       "      <td>2016-11-20T10:19:00Z</td>\n",
       "      <td>SU9</td>\n",
       "      <td>CEE</td>\n",
       "      <td>NOZ</td>\n",
       "      <td>Economy</td>\n",
       "      <td>3000</td>\n",
       "      <td>776</td>\n",
       "      <td>23202400.0</td>\n",
       "      <td>237.0</td>\n",
       "    </tr>\n",
       "    <tr>\n",
       "      <th>2936</th>\n",
       "      <td>213283</td>\n",
       "      <td>PG0616</td>\n",
       "      <td>NaN</td>\n",
       "      <td>NaN</td>\n",
       "      <td>SU9</td>\n",
       "      <td>CEE</td>\n",
       "      <td>NOZ</td>\n",
       "      <td>NaN</td>\n",
       "      <td>3000</td>\n",
       "      <td>97</td>\n",
       "      <td>NaN</td>\n",
       "      <td>NaN</td>\n",
       "    </tr>\n",
       "  </tbody>\n",
       "</table>\n",
       "<p>2937 rows × 12 columns</p>\n",
       "</div>"
      ],
      "text/plain": [
       "      flight_id flight_no      actual_departure        actual_arrival  \\\n",
       "0         68509    PG0295  2016-12-06T13:26:00Z  2016-12-06T13:51:00Z   \n",
       "1         68510    PG0295                   NaN                   NaN   \n",
       "2         68511    PG0296  2016-12-13T10:21:00Z  2016-12-13T10:46:00Z   \n",
       "3         68511    PG0296  2016-12-13T10:21:00Z  2016-12-13T10:46:00Z   \n",
       "4         68512    PG0295  2016-11-06T13:22:00Z  2016-11-06T13:47:00Z   \n",
       "...         ...       ...                   ...                   ...   \n",
       "2932     213281    PG0616  2017-06-11T06:20:00Z  2017-06-11T10:21:00Z   \n",
       "2933     213281    PG0616  2017-06-11T06:20:00Z  2017-06-11T10:21:00Z   \n",
       "2934     213282    PG0616  2016-11-20T06:22:00Z  2016-11-20T10:19:00Z   \n",
       "2935     213282    PG0616  2016-11-20T06:22:00Z  2016-11-20T10:19:00Z   \n",
       "2936     213283    PG0616                   NaN                   NaN   \n",
       "\n",
       "     aircraft_code departure_airport arrival_airport fare_conditions  range  \\\n",
       "0              SU9               OVB             NOZ             NaN   3000   \n",
       "1              SU9               OVB             NOZ             NaN   3000   \n",
       "2              SU9               OVB             NOZ        Business   3000   \n",
       "3              SU9               OVB             NOZ         Economy   3000   \n",
       "4              SU9               OVB             NOZ             NaN   3000   \n",
       "...            ...               ...             ...             ...    ...   \n",
       "2932           SU9               CEE             NOZ        Business   3000   \n",
       "2933           SU9               CEE             NOZ         Economy   3000   \n",
       "2934           SU9               CEE             NOZ        Business   3000   \n",
       "2935           SU9               CEE             NOZ         Economy   3000   \n",
       "2936           SU9               CEE             NOZ             NaN   3000   \n",
       "\n",
       "      count_seats  sum_amount  travel_time  \n",
       "0              97         NaN         25.0  \n",
       "1              97         NaN          NaN  \n",
       "2            1164  10592400.0         25.0  \n",
       "3            7954  24007500.0         25.0  \n",
       "4              97         NaN         25.0  \n",
       "...           ...         ...          ...  \n",
       "2932           97   8691200.0        241.0  \n",
       "2933         1649  49305100.0        241.0  \n",
       "2934          291  26073600.0        237.0  \n",
       "2935          776  23202400.0        237.0  \n",
       "2936           97         NaN          NaN  \n",
       "\n",
       "[2937 rows x 12 columns]"
      ]
     },
     "execution_count": 101,
     "metadata": {},
     "output_type": "execute_result"
    }
   ],
   "source": [
    "data1 = pd.read_csv('NOZ.csv')\n",
    "data1"
   ]
  },
  {
   "cell_type": "code",
   "execution_count": 102,
   "metadata": {},
   "outputs": [
    {
     "name": "stdout",
     "output_type": "stream",
     "text": [
      "<class 'pandas.core.frame.DataFrame'>\n",
      "RangeIndex: 2937 entries, 0 to 2936\n",
      "Data columns (total 12 columns):\n",
      " #   Column             Non-Null Count  Dtype  \n",
      "---  ------             --------------  -----  \n",
      " 0   flight_id          2937 non-null   int64  \n",
      " 1   flight_no          2937 non-null   object \n",
      " 2   actual_departure   2718 non-null   object \n",
      " 3   actual_arrival     2718 non-null   object \n",
      " 4   aircraft_code      2937 non-null   object \n",
      " 5   departure_airport  2937 non-null   object \n",
      " 6   arrival_airport    2937 non-null   object \n",
      " 7   fare_conditions    1452 non-null   object \n",
      " 8   range              2937 non-null   int64  \n",
      " 9   count_seats        2937 non-null   int64  \n",
      " 10  sum_amount         1452 non-null   float64\n",
      " 11  travel_time        2718 non-null   float64\n",
      "dtypes: float64(2), int64(3), object(7)\n",
      "memory usage: 275.5+ KB\n"
     ]
    }
   ],
   "source": [
    "data1.info()"
   ]
  },
  {
   "cell_type": "code",
   "execution_count": 103,
   "metadata": {},
   "outputs": [
    {
     "data": {
      "text/plain": [
       "flight_id               0\n",
       "flight_no               0\n",
       "actual_departure      219\n",
       "actual_arrival        219\n",
       "aircraft_code           0\n",
       "departure_airport       0\n",
       "arrival_airport         0\n",
       "fare_conditions      1485\n",
       "range                   0\n",
       "count_seats             0\n",
       "sum_amount           1485\n",
       "travel_time           219\n",
       "dtype: int64"
      ]
     },
     "execution_count": 103,
     "metadata": {},
     "output_type": "execute_result"
    }
   ],
   "source": [
    "data1.isna().sum()"
   ]
  },
  {
   "cell_type": "markdown",
   "metadata": {},
   "source": [
    "### Оказывается, это не только проблема зимних вылетов из Анапы. Это касается и других городов, чей вылет осуществлялся в Новокузнецк.\n",
    "#### Как мы видим, в пяти колонках много значений пропущено, а также неверные значения в колонке count_seats. Далее разбирать не буду, это не входит в условие проекта. Но с помощью этого датасета, можно выявить приблизительные данные, для заполнения пропущенных значений."
   ]
  },
  {
   "cell_type": "code",
   "execution_count": null,
   "metadata": {},
   "outputs": [],
   "source": []
  }
 ],
 "metadata": {
  "kernelspec": {
   "display_name": "Python 3",
   "language": "python",
   "name": "python3"
  },
  "language_info": {
   "codemirror_mode": {
    "name": "ipython",
    "version": 3
   },
   "file_extension": ".py",
   "mimetype": "text/x-python",
   "name": "python",
   "nbconvert_exporter": "python",
   "pygments_lexer": "ipython3",
   "version": "3.8.3"
  }
 },
 "nbformat": 4,
 "nbformat_minor": 4
}
